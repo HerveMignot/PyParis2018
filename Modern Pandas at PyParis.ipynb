{
 "cells": [
  {
   "cell_type": "markdown",
   "metadata": {},
   "source": [
    "![PyParis 2018](PyParis-banner.png)"
   ]
  },
  {
   "cell_type": "markdown",
   "metadata": {},
   "source": [
    "# Modern pandas @ PyParis 2018\n",
    "\n",
    "### Hervé Mignot\n",
    "\n",
    "herve.mignot at equancy.com"
   ]
  },
  {
   "cell_type": "markdown",
   "metadata": {},
   "source": [
    "## Everything starts with pandas"
   ]
  },
  {
   "cell_type": "code",
   "execution_count": 2,
   "metadata": {
    "collapsed": true
   },
   "outputs": [],
   "source": [
    "import pandas as pd"
   ]
  },
  {
   "cell_type": "markdown",
   "metadata": {},
   "source": [
    "### Discovering the data file"
   ]
  },
  {
   "cell_type": "code",
   "execution_count": 60,
   "metadata": {},
   "outputs": [
    {
     "data": {
      "text/html": [
       "<div>\n",
       "<style scoped>\n",
       "    .dataframe tbody tr th:only-of-type {\n",
       "        vertical-align: middle;\n",
       "    }\n",
       "\n",
       "    .dataframe tbody tr th {\n",
       "        vertical-align: top;\n",
       "    }\n",
       "\n",
       "    .dataframe thead th {\n",
       "        text-align: right;\n",
       "    }\n",
       "</style>\n",
       "<table border=\"1\" class=\"dataframe\">\n",
       "  <thead>\n",
       "    <tr style=\"text-align: right;\">\n",
       "      <th></th>\n",
       "      <th>1000001;01000;R;4620114;519791;2017-01-02T09:37:03;1;Gazole;1258</th>\n",
       "    </tr>\n",
       "  </thead>\n",
       "  <tbody>\n",
       "    <tr>\n",
       "      <th>0</th>\n",
       "      <td>1000001;01000;R;4620114;519791;2017-01-03T09:5...</td>\n",
       "    </tr>\n",
       "    <tr>\n",
       "      <th>1</th>\n",
       "      <td>1000001;01000;R;4620114;519791;2017-01-06T12:3...</td>\n",
       "    </tr>\n",
       "    <tr>\n",
       "      <th>2</th>\n",
       "      <td>1000001;01000;R;4620114;519791;2017-01-09T08:5...</td>\n",
       "    </tr>\n",
       "    <tr>\n",
       "      <th>3</th>\n",
       "      <td>1000001;01000;R;4620114;519791;2017-01-10T10:3...</td>\n",
       "    </tr>\n",
       "    <tr>\n",
       "      <th>4</th>\n",
       "      <td>1000001;01000;R;4620114;519791;2017-01-11T09:0...</td>\n",
       "    </tr>\n",
       "  </tbody>\n",
       "</table>\n",
       "</div>"
      ],
      "text/plain": [
       "  1000001;01000;R;4620114;519791;2017-01-02T09:37:03;1;Gazole;1258\n",
       "0  1000001;01000;R;4620114;519791;2017-01-03T09:5...              \n",
       "1  1000001;01000;R;4620114;519791;2017-01-06T12:3...              \n",
       "2  1000001;01000;R;4620114;519791;2017-01-09T08:5...              \n",
       "3  1000001;01000;R;4620114;519791;2017-01-10T10:3...              \n",
       "4  1000001;01000;R;4620114;519791;2017-01-11T09:0...              "
      ]
     },
     "execution_count": 60,
     "metadata": {},
     "output_type": "execute_result"
    }
   ],
   "source": [
    "pd.read_csv('./Prix2017.zip', nrows=5)"
   ]
  },
  {
   "cell_type": "code",
   "execution_count": 96,
   "metadata": {
    "collapsed": true
   },
   "outputs": [
    {
     "name": "stdout",
     "output_type": "stream",
     "text": [
      "Wall time: 9.29 s\n"
     ]
    }
   ],
   "source": [
    "%%time\n",
    "prices_df = (pd.read_csv('./Prix2017.zip',\n",
    "                         sep=';',\n",
    "                         header=None,\n",
    "                         dtype={1: str},\n",
    "                         parse_dates = [5],\n",
    "                        )\n",
    "             # Renaming columns\n",
    "             .rename(columns={0: 'station_id', 1:'zip_code',\n",
    "                              3: 'latitude', 4: 'longitude', 5: 'date',\n",
    "                              7: 'gas_type', 8: 'price'}\n",
    "                    )\n",
    "             # Recomputing some columns\n",
    "             .assign(\n",
    "                 price = lambda x: x['price'] / 1000,\n",
    "                 latitude = lambda x: x['latitude'] / 100000,\n",
    "                 longitude = lambda x: x.longitude / 100000,\n",
    "             )\n",
    "             # Removing some columns (axis=1)\n",
    "             .drop([2, 6,], axis=1)\n",
    "            )"
   ]
  },
  {
   "cell_type": "code",
   "execution_count": 111,
   "metadata": {},
   "outputs": [
    {
     "name": "stdout",
     "output_type": "stream",
     "text": [
      "Number of rows: 3,662,353\n",
      "Columns: station_id, zip_code, latitude, longitude, date, gas_type, price\n"
     ]
    }
   ],
   "source": [
    "print(\"Number of rows: {:,d}\".format(prices_df.shape[0]))\n",
    "print(\"Columns:\", \", \".join(prices_df.columns))"
   ]
  },
  {
   "cell_type": "code",
   "execution_count": 112,
   "metadata": {},
   "outputs": [
    {
     "name": "stdout",
     "output_type": "stream",
     "text": [
      "<class 'pandas.core.frame.DataFrame'>\n",
      "RangeIndex: 3662353 entries, 0 to 3662352\n",
      "Data columns (total 7 columns):\n",
      "station_id    int64\n",
      "zip_code      object\n",
      "latitude      float64\n",
      "longitude     float64\n",
      "date          datetime64[ns]\n",
      "gas_type      object\n",
      "price         float64\n",
      "dtypes: datetime64[ns](1), float64(3), int64(1), object(2)\n",
      "memory usage: 195.6+ MB\n"
     ]
    }
   ],
   "source": [
    "prices_df.info()"
   ]
  },
  {
   "cell_type": "markdown",
   "metadata": {},
   "source": [
    "### Reading the station file"
   ]
  },
  {
   "cell_type": "code",
   "execution_count": 113,
   "metadata": {},
   "outputs": [
    {
     "data": {
      "text/html": [
       "<div>\n",
       "<style scoped>\n",
       "    .dataframe tbody tr th:only-of-type {\n",
       "        vertical-align: middle;\n",
       "    }\n",
       "\n",
       "    .dataframe tbody tr th {\n",
       "        vertical-align: top;\n",
       "    }\n",
       "\n",
       "    .dataframe thead th {\n",
       "        text-align: right;\n",
       "    }\n",
       "</style>\n",
       "<table border=\"1\" class=\"dataframe\">\n",
       "  <thead>\n",
       "    <tr style=\"text-align: right;\">\n",
       "      <th></th>\n",
       "      <th>station_id</th>\n",
       "      <th>zip_code</th>\n",
       "      <th>type</th>\n",
       "      <th>latitude</th>\n",
       "      <th>longitude</th>\n",
       "      <th>address</th>\n",
       "      <th>city</th>\n",
       "    </tr>\n",
       "  </thead>\n",
       "  <tbody>\n",
       "    <tr>\n",
       "      <th>0</th>\n",
       "      <td>1000001</td>\n",
       "      <td>01000</td>\n",
       "      <td>R</td>\n",
       "      <td>46.201140</td>\n",
       "      <td>5.197910</td>\n",
       "      <td>596 AVENUE DE TREVOUX</td>\n",
       "      <td>SAINT-DENIS-LèS-BOURG</td>\n",
       "    </tr>\n",
       "    <tr>\n",
       "      <th>1</th>\n",
       "      <td>1000002</td>\n",
       "      <td>01000</td>\n",
       "      <td>R</td>\n",
       "      <td>46.218420</td>\n",
       "      <td>5.227670</td>\n",
       "      <td>16 Avenue de Marboz</td>\n",
       "      <td>BOURG-EN-BRESSE</td>\n",
       "    </tr>\n",
       "    <tr>\n",
       "      <th>2</th>\n",
       "      <td>1000004</td>\n",
       "      <td>01000</td>\n",
       "      <td>R</td>\n",
       "      <td>0.000052</td>\n",
       "      <td>0.000462</td>\n",
       "      <td>20 Avenue du Maréchal Juin</td>\n",
       "      <td>Bourg-en-Bresse</td>\n",
       "    </tr>\n",
       "  </tbody>\n",
       "</table>\n",
       "</div>"
      ],
      "text/plain": [
       "   station_id zip_code type   latitude  longitude                     address  \\\n",
       "0     1000001    01000    R  46.201140   5.197910       596 AVENUE DE TREVOUX   \n",
       "1     1000002    01000    R  46.218420   5.227670         16 Avenue de Marboz   \n",
       "2     1000004    01000    R   0.000052   0.000462  20 Avenue du Maréchal Juin   \n",
       "\n",
       "                    city  \n",
       "0  SAINT-DENIS-LèS-BOURG  \n",
       "1        BOURG-EN-BRESSE  \n",
       "2        Bourg-en-Bresse  "
      ]
     },
     "execution_count": 113,
     "metadata": {},
     "output_type": "execute_result"
    }
   ],
   "source": [
    "STATIONS_HEADER = ['station_id', 'zip_code', 'type', 'latitude', 'longitude', 'address', 'city']\n",
    "\n",
    "stations_df = (pd.read_csv('./Stations2017.zip',\n",
    "                           sep='|',\n",
    "                           header=None,\n",
    "                           dtype={1: str},\n",
    "                           names=STATIONS_HEADER,\n",
    "                          )\n",
    "               .assign(\n",
    "                   latitude = lambda x: x.latitude / 100000,\n",
    "                   longitude = lambda x: x.longitude / 100000,\n",
    "               )\n",
    "              )\n",
    "\n",
    "stations_df.head(3)"
   ]
  },
  {
   "cell_type": "markdown",
   "metadata": {},
   "source": [
    "## Filtering rows"
   ]
  },
  {
   "cell_type": "markdown",
   "metadata": {},
   "source": [
    "### Using .loc[ ]"
   ]
  },
  {
   "cell_type": "code",
   "execution_count": 114,
   "metadata": {},
   "outputs": [
    {
     "data": {
      "text/html": [
       "<div>\n",
       "<style scoped>\n",
       "    .dataframe tbody tr th:only-of-type {\n",
       "        vertical-align: middle;\n",
       "    }\n",
       "\n",
       "    .dataframe tbody tr th {\n",
       "        vertical-align: top;\n",
       "    }\n",
       "\n",
       "    .dataframe thead th {\n",
       "        text-align: right;\n",
       "    }\n",
       "</style>\n",
       "<table border=\"1\" class=\"dataframe\">\n",
       "  <thead>\n",
       "    <tr style=\"text-align: right;\">\n",
       "      <th></th>\n",
       "      <th>station_id</th>\n",
       "      <th>zip_code</th>\n",
       "      <th>type</th>\n",
       "      <th>latitude</th>\n",
       "      <th>longitude</th>\n",
       "      <th>address</th>\n",
       "      <th>city</th>\n",
       "    </tr>\n",
       "  </thead>\n",
       "  <tbody>\n",
       "    <tr>\n",
       "      <th>12268</th>\n",
       "      <td>94270003</td>\n",
       "      <td>94270</td>\n",
       "      <td>R</td>\n",
       "      <td>48.80778</td>\n",
       "      <td>2.3628</td>\n",
       "      <td>136 Avenue de Fontainebleau</td>\n",
       "      <td>LE KREMLIN-BICêTRE</td>\n",
       "    </tr>\n",
       "    <tr>\n",
       "      <th>12269</th>\n",
       "      <td>94270005</td>\n",
       "      <td>94270</td>\n",
       "      <td>R</td>\n",
       "      <td>48.81193</td>\n",
       "      <td>2.3618</td>\n",
       "      <td>Avenue de Fontainebleau</td>\n",
       "      <td>LE KREMLIN-BICêTRE</td>\n",
       "    </tr>\n",
       "  </tbody>\n",
       "</table>\n",
       "</div>"
      ],
      "text/plain": [
       "       station_id zip_code type  latitude  longitude  \\\n",
       "12268    94270003    94270    R  48.80778     2.3628   \n",
       "12269    94270005    94270    R  48.81193     2.3618   \n",
       "\n",
       "                           address                city  \n",
       "12268  136 Avenue de Fontainebleau  LE KREMLIN-BICêTRE  \n",
       "12269      Avenue de Fontainebleau  LE KREMLIN-BICêTRE  "
      ]
     },
     "execution_count": 114,
     "metadata": {},
     "output_type": "execute_result"
    }
   ],
   "source": [
    "stations_df.loc[stations_df.zip_code == \"94270\"]"
   ]
  },
  {
   "cell_type": "markdown",
   "metadata": {},
   "source": [
    "In several situations, we will have a \"reference problem\": how to refer to the dataframe as it is when calling the function.\n",
    "\n",
    "Sometimes, we have a method available that will help:"
   ]
  },
  {
   "cell_type": "markdown",
   "metadata": {},
   "source": [
    "### Using .query()"
   ]
  },
  {
   "cell_type": "code",
   "execution_count": 115,
   "metadata": {},
   "outputs": [
    {
     "data": {
      "text/html": [
       "<div>\n",
       "<style scoped>\n",
       "    .dataframe tbody tr th:only-of-type {\n",
       "        vertical-align: middle;\n",
       "    }\n",
       "\n",
       "    .dataframe tbody tr th {\n",
       "        vertical-align: top;\n",
       "    }\n",
       "\n",
       "    .dataframe thead th {\n",
       "        text-align: right;\n",
       "    }\n",
       "</style>\n",
       "<table border=\"1\" class=\"dataframe\">\n",
       "  <thead>\n",
       "    <tr style=\"text-align: right;\">\n",
       "      <th></th>\n",
       "      <th>station_id</th>\n",
       "      <th>zip_code</th>\n",
       "      <th>type</th>\n",
       "      <th>latitude</th>\n",
       "      <th>longitude</th>\n",
       "      <th>address</th>\n",
       "      <th>city</th>\n",
       "    </tr>\n",
       "  </thead>\n",
       "  <tbody>\n",
       "    <tr>\n",
       "      <th>12268</th>\n",
       "      <td>94270003</td>\n",
       "      <td>94270</td>\n",
       "      <td>R</td>\n",
       "      <td>48.80778</td>\n",
       "      <td>2.3628</td>\n",
       "      <td>136 Avenue de Fontainebleau</td>\n",
       "      <td>LE KREMLIN-BICêTRE</td>\n",
       "    </tr>\n",
       "    <tr>\n",
       "      <th>12269</th>\n",
       "      <td>94270005</td>\n",
       "      <td>94270</td>\n",
       "      <td>R</td>\n",
       "      <td>48.81193</td>\n",
       "      <td>2.3618</td>\n",
       "      <td>Avenue de Fontainebleau</td>\n",
       "      <td>LE KREMLIN-BICêTRE</td>\n",
       "    </tr>\n",
       "  </tbody>\n",
       "</table>\n",
       "</div>"
      ],
      "text/plain": [
       "       station_id zip_code type  latitude  longitude  \\\n",
       "12268    94270003    94270    R  48.80778     2.3628   \n",
       "12269    94270005    94270    R  48.81193     2.3618   \n",
       "\n",
       "                           address                city  \n",
       "12268  136 Avenue de Fontainebleau  LE KREMLIN-BICêTRE  \n",
       "12269      Avenue de Fontainebleau  LE KREMLIN-BICêTRE  "
      ]
     },
     "execution_count": 115,
     "metadata": {},
     "output_type": "execute_result"
    }
   ],
   "source": [
    "stations_df.query('zip_code == \"94270\"')"
   ]
  },
  {
   "cell_type": "code",
   "execution_count": 116,
   "metadata": {},
   "outputs": [
    {
     "data": {
      "text/html": [
       "<div>\n",
       "<style scoped>\n",
       "    .dataframe tbody tr th:only-of-type {\n",
       "        vertical-align: middle;\n",
       "    }\n",
       "\n",
       "    .dataframe tbody tr th {\n",
       "        vertical-align: top;\n",
       "    }\n",
       "\n",
       "    .dataframe thead th {\n",
       "        text-align: right;\n",
       "    }\n",
       "</style>\n",
       "<table border=\"1\" class=\"dataframe\">\n",
       "  <thead>\n",
       "    <tr style=\"text-align: right;\">\n",
       "      <th></th>\n",
       "      <th>station_id</th>\n",
       "      <th>zip_code</th>\n",
       "      <th>type</th>\n",
       "      <th>latitude</th>\n",
       "      <th>longitude</th>\n",
       "      <th>address</th>\n",
       "      <th>city</th>\n",
       "    </tr>\n",
       "  </thead>\n",
       "  <tbody>\n",
       "    <tr>\n",
       "      <th>12268</th>\n",
       "      <td>94270003</td>\n",
       "      <td>94270</td>\n",
       "      <td>R</td>\n",
       "      <td>48.80778</td>\n",
       "      <td>2.3628</td>\n",
       "      <td>136 Avenue de Fontainebleau</td>\n",
       "      <td>LE KREMLIN-BICêTRE</td>\n",
       "    </tr>\n",
       "    <tr>\n",
       "      <th>12269</th>\n",
       "      <td>94270005</td>\n",
       "      <td>94270</td>\n",
       "      <td>R</td>\n",
       "      <td>48.81193</td>\n",
       "      <td>2.3618</td>\n",
       "      <td>Avenue de Fontainebleau</td>\n",
       "      <td>LE KREMLIN-BICêTRE</td>\n",
       "    </tr>\n",
       "  </tbody>\n",
       "</table>\n",
       "</div>"
      ],
      "text/plain": [
       "       station_id zip_code type  latitude  longitude  \\\n",
       "12268    94270003    94270    R  48.80778     2.3628   \n",
       "12269    94270005    94270    R  48.81193     2.3618   \n",
       "\n",
       "                           address                city  \n",
       "12268  136 Avenue de Fontainebleau  LE KREMLIN-BICêTRE  \n",
       "12269      Avenue de Fontainebleau  LE KREMLIN-BICêTRE  "
      ]
     },
     "execution_count": 116,
     "metadata": {},
     "output_type": "execute_result"
    }
   ],
   "source": [
    "ZIP = \"94270\"\n",
    "\n",
    "stations_df.query('zip_code == @ZIP')"
   ]
  },
  {
   "cell_type": "markdown",
   "metadata": {},
   "source": [
    "## Filtering columns"
   ]
  },
  {
   "cell_type": "markdown",
   "metadata": {},
   "source": [
    "### Using loc[ ] (both ways, for subtables)"
   ]
  },
  {
   "cell_type": "code",
   "execution_count": 89,
   "metadata": {},
   "outputs": [
    {
     "data": {
      "text/html": [
       "<div>\n",
       "<style scoped>\n",
       "    .dataframe tbody tr th:only-of-type {\n",
       "        vertical-align: middle;\n",
       "    }\n",
       "\n",
       "    .dataframe tbody tr th {\n",
       "        vertical-align: top;\n",
       "    }\n",
       "\n",
       "    .dataframe thead th {\n",
       "        text-align: right;\n",
       "    }\n",
       "</style>\n",
       "<table border=\"1\" class=\"dataframe\">\n",
       "  <thead>\n",
       "    <tr style=\"text-align: right;\">\n",
       "      <th></th>\n",
       "      <th>address</th>\n",
       "      <th>city</th>\n",
       "    </tr>\n",
       "  </thead>\n",
       "  <tbody>\n",
       "    <tr>\n",
       "      <th>12268</th>\n",
       "      <td>136 Avenue de Fontainebleau</td>\n",
       "      <td>LE KREMLIN-BICêTRE</td>\n",
       "    </tr>\n",
       "    <tr>\n",
       "      <th>12269</th>\n",
       "      <td>Avenue de Fontainebleau</td>\n",
       "      <td>LE KREMLIN-BICêTRE</td>\n",
       "    </tr>\n",
       "  </tbody>\n",
       "</table>\n",
       "</div>"
      ],
      "text/plain": [
       "                           address                city\n",
       "12268  136 Avenue de Fontainebleau  LE KREMLIN-BICêTRE\n",
       "12269      Avenue de Fontainebleau  LE KREMLIN-BICêTRE"
      ]
     },
     "execution_count": 89,
     "metadata": {},
     "output_type": "execute_result"
    }
   ],
   "source": [
    "(pd.read_csv('./Stations2017.zip',\n",
    "             sep='|',\n",
    "             header=None,\n",
    "             dtype={1: str},\n",
    "             names=STATIONS_HEADER,\n",
    "            )\n",
    " .loc[lambda x: x.zip_code == '94270', ['address', 'city']]\n",
    ")"
   ]
  },
  {
   "cell_type": "markdown",
   "metadata": {},
   "source": [
    "### Using [ ]"
   ]
  },
  {
   "cell_type": "code",
   "execution_count": 93,
   "metadata": {},
   "outputs": [
    {
     "data": {
      "text/html": [
       "<div>\n",
       "<style scoped>\n",
       "    .dataframe tbody tr th:only-of-type {\n",
       "        vertical-align: middle;\n",
       "    }\n",
       "\n",
       "    .dataframe tbody tr th {\n",
       "        vertical-align: top;\n",
       "    }\n",
       "\n",
       "    .dataframe thead th {\n",
       "        text-align: right;\n",
       "    }\n",
       "</style>\n",
       "<table border=\"1\" class=\"dataframe\">\n",
       "  <thead>\n",
       "    <tr style=\"text-align: right;\">\n",
       "      <th></th>\n",
       "      <th>address</th>\n",
       "      <th>city</th>\n",
       "    </tr>\n",
       "  </thead>\n",
       "  <tbody>\n",
       "    <tr>\n",
       "      <th>0</th>\n",
       "      <td>596 AVENUE DE TREVOUX</td>\n",
       "      <td>SAINT-DENIS-LèS-BOURG</td>\n",
       "    </tr>\n",
       "    <tr>\n",
       "      <th>1</th>\n",
       "      <td>16 Avenue de Marboz</td>\n",
       "      <td>BOURG-EN-BRESSE</td>\n",
       "    </tr>\n",
       "    <tr>\n",
       "      <th>2</th>\n",
       "      <td>20 Avenue du Maréchal Juin</td>\n",
       "      <td>Bourg-en-Bresse</td>\n",
       "    </tr>\n",
       "    <tr>\n",
       "      <th>3</th>\n",
       "      <td>642 Avenue de Trévoux</td>\n",
       "      <td>SAINT-DENIS-LèS-BOURG</td>\n",
       "    </tr>\n",
       "  </tbody>\n",
       "</table>\n",
       "</div>"
      ],
      "text/plain": [
       "                      address                   city\n",
       "0       596 AVENUE DE TREVOUX  SAINT-DENIS-LèS-BOURG\n",
       "1         16 Avenue de Marboz        BOURG-EN-BRESSE\n",
       "2  20 Avenue du Maréchal Juin        Bourg-en-Bresse\n",
       "3       642 Avenue de Trévoux  SAINT-DENIS-LèS-BOURG"
      ]
     },
     "execution_count": 93,
     "metadata": {},
     "output_type": "execute_result"
    }
   ],
   "source": [
    "(pd.read_csv('./Stations2017.zip',\n",
    "             sep='|',\n",
    "             header=None,\n",
    "             dtype={1: str},\n",
    "             names=STATIONS_HEADER,\n",
    "            )\n",
    " [['address', 'city']]\n",
    ").head(4)"
   ]
  },
  {
   "cell_type": "code",
   "execution_count": 94,
   "metadata": {},
   "outputs": [
    {
     "data": {
      "text/html": [
       "<div>\n",
       "<style scoped>\n",
       "    .dataframe tbody tr th:only-of-type {\n",
       "        vertical-align: middle;\n",
       "    }\n",
       "\n",
       "    .dataframe tbody tr th {\n",
       "        vertical-align: top;\n",
       "    }\n",
       "\n",
       "    .dataframe thead th {\n",
       "        text-align: right;\n",
       "    }\n",
       "</style>\n",
       "<table border=\"1\" class=\"dataframe\">\n",
       "  <thead>\n",
       "    <tr style=\"text-align: right;\">\n",
       "      <th></th>\n",
       "      <th>station_id</th>\n",
       "      <th>zip_code</th>\n",
       "      <th>type</th>\n",
       "      <th>latitude</th>\n",
       "      <th>longitude</th>\n",
       "      <th>address</th>\n",
       "    </tr>\n",
       "  </thead>\n",
       "  <tbody>\n",
       "    <tr>\n",
       "      <th>0</th>\n",
       "      <td>1000001</td>\n",
       "      <td>01000</td>\n",
       "      <td>R</td>\n",
       "      <td>4.620114e+06</td>\n",
       "      <td>519791.000000</td>\n",
       "      <td>596 AVENUE DE TREVOUX</td>\n",
       "    </tr>\n",
       "    <tr>\n",
       "      <th>1</th>\n",
       "      <td>1000002</td>\n",
       "      <td>01000</td>\n",
       "      <td>R</td>\n",
       "      <td>4.621842e+06</td>\n",
       "      <td>522767.000000</td>\n",
       "      <td>16 Avenue de Marboz</td>\n",
       "    </tr>\n",
       "    <tr>\n",
       "      <th>2</th>\n",
       "      <td>1000004</td>\n",
       "      <td>01000</td>\n",
       "      <td>R</td>\n",
       "      <td>5.245000e+00</td>\n",
       "      <td>46.188000</td>\n",
       "      <td>20 Avenue du Maréchal Juin</td>\n",
       "    </tr>\n",
       "    <tr>\n",
       "      <th>3</th>\n",
       "      <td>1000005</td>\n",
       "      <td>01000</td>\n",
       "      <td>R</td>\n",
       "      <td>4.620094e+06</td>\n",
       "      <td>519942.024022</td>\n",
       "      <td>642 Avenue de Trévoux</td>\n",
       "    </tr>\n",
       "  </tbody>\n",
       "</table>\n",
       "</div>"
      ],
      "text/plain": [
       "   station_id zip_code type      latitude      longitude  \\\n",
       "0     1000001    01000    R  4.620114e+06  519791.000000   \n",
       "1     1000002    01000    R  4.621842e+06  522767.000000   \n",
       "2     1000004    01000    R  5.245000e+00      46.188000   \n",
       "3     1000005    01000    R  4.620094e+06  519942.024022   \n",
       "\n",
       "                      address  \n",
       "0       596 AVENUE DE TREVOUX  \n",
       "1         16 Avenue de Marboz  \n",
       "2  20 Avenue du Maréchal Juin  \n",
       "3       642 Avenue de Trévoux  "
      ]
     },
     "execution_count": 94,
     "metadata": {},
     "output_type": "execute_result"
    }
   ],
   "source": [
    "(pd.read_csv('./Stations2017.zip',\n",
    "             sep='|',\n",
    "             header=None,\n",
    "             dtype={1: str},\n",
    "             names=STATIONS_HEADER,\n",
    "            )\n",
    " [STATIONS_HEADER[:-1]]\n",
    ").head(4)"
   ]
  },
  {
   "cell_type": "markdown",
   "metadata": {},
   "source": [
    "## Computing new columns"
   ]
  },
  {
   "cell_type": "markdown",
   "metadata": {},
   "source": [
    "### With assign()"
   ]
  },
  {
   "cell_type": "code",
   "execution_count": 85,
   "metadata": {},
   "outputs": [],
   "source": [
    "stations_df = (pd.read_csv('./Stations2017.zip',\n",
    "                           sep='|',\n",
    "                           header=None,\n",
    "                           dtype={1: str},\n",
    "                           names=STATIONS_HEADER,\n",
    "                          )\n",
    "               .assign(\n",
    "                   latitude = lambda x: x.latitude / 100000,\n",
    "                   longitude = lambda x: x.longitude / 100000,\n",
    "               )\n",
    "              )"
   ]
  },
  {
   "cell_type": "markdown",
   "metadata": {},
   "source": [
    "Still the \"reference problem\", we used lambdas to refer to the previous result."
   ]
  },
  {
   "cell_type": "code",
   "execution_count": 117,
   "metadata": {},
   "outputs": [
    {
     "data": {
      "text/html": [
       "<div>\n",
       "<style scoped>\n",
       "    .dataframe tbody tr th:only-of-type {\n",
       "        vertical-align: middle;\n",
       "    }\n",
       "\n",
       "    .dataframe tbody tr th {\n",
       "        vertical-align: top;\n",
       "    }\n",
       "\n",
       "    .dataframe thead th {\n",
       "        text-align: right;\n",
       "    }\n",
       "</style>\n",
       "<table border=\"1\" class=\"dataframe\">\n",
       "  <thead>\n",
       "    <tr style=\"text-align: right;\">\n",
       "      <th></th>\n",
       "      <th>station_id</th>\n",
       "      <th>zip_code</th>\n",
       "      <th>type</th>\n",
       "      <th>latitude</th>\n",
       "      <th>longitude</th>\n",
       "      <th>address</th>\n",
       "      <th>city</th>\n",
       "      <th>department</th>\n",
       "    </tr>\n",
       "  </thead>\n",
       "  <tbody>\n",
       "    <tr>\n",
       "      <th>12268</th>\n",
       "      <td>94270003</td>\n",
       "      <td>94270</td>\n",
       "      <td>R</td>\n",
       "      <td>4880778.0</td>\n",
       "      <td>236280.0</td>\n",
       "      <td>136 Avenue de Fontainebleau</td>\n",
       "      <td>LE KREMLIN-BICêTRE</td>\n",
       "      <td>94</td>\n",
       "    </tr>\n",
       "    <tr>\n",
       "      <th>12269</th>\n",
       "      <td>94270005</td>\n",
       "      <td>94270</td>\n",
       "      <td>R</td>\n",
       "      <td>4881193.0</td>\n",
       "      <td>236180.0</td>\n",
       "      <td>Avenue de Fontainebleau</td>\n",
       "      <td>LE KREMLIN-BICêTRE</td>\n",
       "      <td>94</td>\n",
       "    </tr>\n",
       "  </tbody>\n",
       "</table>\n",
       "</div>"
      ],
      "text/plain": [
       "       station_id zip_code type   latitude  longitude  \\\n",
       "12268    94270003    94270    R  4880778.0   236280.0   \n",
       "12269    94270005    94270    R  4881193.0   236180.0   \n",
       "\n",
       "                           address                city department  \n",
       "12268  136 Avenue de Fontainebleau  LE KREMLIN-BICêTRE         94  \n",
       "12269      Avenue de Fontainebleau  LE KREMLIN-BICêTRE         94  "
      ]
     },
     "execution_count": 117,
     "metadata": {},
     "output_type": "execute_result"
    }
   ],
   "source": [
    "stations_df = (pd.read_csv('./Stations2017.zip',\n",
    "                           sep='|',\n",
    "                           header=None,\n",
    "                           dtype={1: str},\n",
    "                           names=STATIONS_HEADER,\n",
    "                          )\n",
    "              )\n",
    "\n",
    "## DANGEROUS ##\n",
    "(stations_df\n",
    " .query('zip_code == \"94270\"')\n",
    " .assign(department = stations_df.zip_code.str[:2])\n",
    ")"
   ]
  },
  {
   "cell_type": "code",
   "execution_count": 118,
   "metadata": {},
   "outputs": [
    {
     "data": {
      "text/html": [
       "<div>\n",
       "<style scoped>\n",
       "    .dataframe tbody tr th:only-of-type {\n",
       "        vertical-align: middle;\n",
       "    }\n",
       "\n",
       "    .dataframe tbody tr th {\n",
       "        vertical-align: top;\n",
       "    }\n",
       "\n",
       "    .dataframe thead th {\n",
       "        text-align: right;\n",
       "    }\n",
       "</style>\n",
       "<table border=\"1\" class=\"dataframe\">\n",
       "  <thead>\n",
       "    <tr style=\"text-align: right;\">\n",
       "      <th></th>\n",
       "      <th>station_id</th>\n",
       "      <th>zip_code</th>\n",
       "      <th>type</th>\n",
       "      <th>latitude</th>\n",
       "      <th>longitude</th>\n",
       "      <th>address</th>\n",
       "      <th>city</th>\n",
       "      <th>department</th>\n",
       "    </tr>\n",
       "  </thead>\n",
       "  <tbody>\n",
       "    <tr>\n",
       "      <th>12268</th>\n",
       "      <td>94270003</td>\n",
       "      <td>A94270</td>\n",
       "      <td>R</td>\n",
       "      <td>4880778.0</td>\n",
       "      <td>236280.0</td>\n",
       "      <td>136 Avenue de Fontainebleau</td>\n",
       "      <td>LE KREMLIN-BICêTRE</td>\n",
       "      <td>94</td>\n",
       "    </tr>\n",
       "    <tr>\n",
       "      <th>12269</th>\n",
       "      <td>94270005</td>\n",
       "      <td>A94270</td>\n",
       "      <td>R</td>\n",
       "      <td>4881193.0</td>\n",
       "      <td>236180.0</td>\n",
       "      <td>Avenue de Fontainebleau</td>\n",
       "      <td>LE KREMLIN-BICêTRE</td>\n",
       "      <td>94</td>\n",
       "    </tr>\n",
       "  </tbody>\n",
       "</table>\n",
       "</div>"
      ],
      "text/plain": [
       "       station_id zip_code type   latitude  longitude  \\\n",
       "12268    94270003   A94270    R  4880778.0   236280.0   \n",
       "12269    94270005   A94270    R  4881193.0   236180.0   \n",
       "\n",
       "                           address                city department  \n",
       "12268  136 Avenue de Fontainebleau  LE KREMLIN-BICêTRE         94  \n",
       "12269      Avenue de Fontainebleau  LE KREMLIN-BICêTRE         94  "
      ]
     },
     "execution_count": 118,
     "metadata": {},
     "output_type": "execute_result"
    }
   ],
   "source": [
    "## AND OBVIOUSLY WRONG ##\n",
    "(stations_df\n",
    " .query('zip_code == \"94270\"')\n",
    " .assign(zip_code = 'A' + stations_df.zip_code)\n",
    " .assign(department = stations_df.zip_code.str[:2])\n",
    ")"
   ]
  },
  {
   "cell_type": "code",
   "execution_count": 71,
   "metadata": {},
   "outputs": [],
   "source": [
    "stations_df = (pd.read_csv('./Stations2017.zip',\n",
    "                           sep='|',\n",
    "                           header=None,\n",
    "                           dtype={1: str},\n",
    "                           names=STATIONS_HEADER,\n",
    "                          )\n",
    "               .assign(\n",
    "                   latitude = lambda x: x.latitude / 100000,\n",
    "                   longitude = lambda x: x.longitude / 100000,\n",
    "               )\n",
    "              )"
   ]
  },
  {
   "cell_type": "markdown",
   "metadata": {},
   "source": [
    "## Something more interesting now\n",
    "\n",
    "Generating grouped data for data visualization"
   ]
  },
  {
   "cell_type": "code",
   "execution_count": 143,
   "metadata": {
    "collapsed": true
   },
   "outputs": [],
   "source": [
    "import matplotlib.pyplot as plt\n",
    "import seaborn as sns\n",
    "%matplotlib inline\n",
    "plt.rc('figure', figsize=(15.0, 8.0))\n",
    "sns.set()"
   ]
  },
  {
   "cell_type": "code",
   "execution_count": 144,
   "metadata": {},
   "outputs": [
    {
     "data": {
      "image/png": "[encoded data removed]",
      "text/plain": [
       "<Figure size 1080x576 with 1 Axes>"
      ]
     },
     "metadata": {},
     "output_type": "display_data"
    }
   ],
   "source": [
    "(prices_df\n",
    " .dropna(subset=['date'])\n",
    " .groupby(['gas_type', pd.Grouper(key='date', freq='1W')])\n",
    " ['price']\n",
    " .mean()\n",
    " .unstack(0)\n",
    " .rename_axis('Gas Prices Variations over the year', axis=1)\n",
    " .plot()\n",
    ")\n",
    "plt.legend(prop={'size': 12})\n",
    "sns.despine()"
   ]
  },
  {
   "cell_type": "code",
   "execution_count": 145,
   "metadata": {},
   "outputs": [
    {
     "data": {
      "image/png": "[encoded data removed]",
      "text/plain": [
       "<Figure size 1080x576 with 1 Axes>"
      ]
     },
     "metadata": {},
     "output_type": "display_data"
    }
   ],
   "source": [
    "(prices_df\n",
    " .dropna(subset=['date'])\n",
    " .loc[prices_df['gas_type'].isin(prices_df['gas_type'].value_counts().index[:4])]\n",
    " .groupby(['gas_type', pd.Grouper(key='date', freq='1W')])\n",
    " ['price']\n",
    " .mean()\n",
    " .unstack(0)\n",
    " .rename_axis('Gas Prices Variations over the year', axis=1)\n",
    " .plot()\n",
    ")\n",
    "plt.legend(prop={'size': 12})\n",
    "sns.despine()"
   ]
  },
  {
   "cell_type": "markdown",
   "metadata": {},
   "source": [
    "## Controling the pipeline"
   ]
  },
  {
   "cell_type": "markdown",
   "metadata": {},
   "source": [
    "### with engarde module"
   ]
  },
  {
   "cell_type": "code",
   "execution_count": 40,
   "metadata": {
    "collapsed": true
   },
   "outputs": [],
   "source": [
    "import engarde.checks as checks"
   ]
  },
  {
   "cell_type": "code",
   "execution_count": 109,
   "metadata": {},
   "outputs": [
    {
     "data": {
      "text/plain": [
       "Index(['address', 'city'], dtype='object')"
      ]
     },
     "execution_count": 109,
     "metadata": {},
     "output_type": "execute_result"
    }
   ],
   "source": [
    "stations_df.columns"
   ]
  },
  {
   "cell_type": "code",
   "execution_count": 124,
   "metadata": {},
   "outputs": [
    {
     "data": {
      "text/html": [
       "<div>\n",
       "<style scoped>\n",
       "    .dataframe tbody tr th:only-of-type {\n",
       "        vertical-align: middle;\n",
       "    }\n",
       "\n",
       "    .dataframe tbody tr th {\n",
       "        vertical-align: top;\n",
       "    }\n",
       "\n",
       "    .dataframe thead th {\n",
       "        text-align: right;\n",
       "    }\n",
       "</style>\n",
       "<table border=\"1\" class=\"dataframe\">\n",
       "  <thead>\n",
       "    <tr style=\"text-align: right;\">\n",
       "      <th></th>\n",
       "      <th>station_id</th>\n",
       "      <th>zip_code</th>\n",
       "      <th>type</th>\n",
       "      <th>latitude</th>\n",
       "      <th>longitude</th>\n",
       "      <th>address</th>\n",
       "      <th>city</th>\n",
       "    </tr>\n",
       "  </thead>\n",
       "  <tbody>\n",
       "    <tr>\n",
       "      <th>0</th>\n",
       "      <td>1000001</td>\n",
       "      <td>01000</td>\n",
       "      <td>R</td>\n",
       "      <td>4.620114e+06</td>\n",
       "      <td>519791.000000</td>\n",
       "      <td>596 AVENUE DE TREVOUX</td>\n",
       "      <td>SAINT-DENIS-LèS-BOURG</td>\n",
       "    </tr>\n",
       "    <tr>\n",
       "      <th>1</th>\n",
       "      <td>1000002</td>\n",
       "      <td>01000</td>\n",
       "      <td>R</td>\n",
       "      <td>4.621842e+06</td>\n",
       "      <td>522767.000000</td>\n",
       "      <td>16 Avenue de Marboz</td>\n",
       "      <td>BOURG-EN-BRESSE</td>\n",
       "    </tr>\n",
       "    <tr>\n",
       "      <th>2</th>\n",
       "      <td>1000004</td>\n",
       "      <td>01000</td>\n",
       "      <td>R</td>\n",
       "      <td>5.245000e+00</td>\n",
       "      <td>46.188000</td>\n",
       "      <td>20 Avenue du Maréchal Juin</td>\n",
       "      <td>Bourg-en-Bresse</td>\n",
       "    </tr>\n",
       "    <tr>\n",
       "      <th>3</th>\n",
       "      <td>1000005</td>\n",
       "      <td>01000</td>\n",
       "      <td>R</td>\n",
       "      <td>4.620094e+06</td>\n",
       "      <td>519942.024022</td>\n",
       "      <td>642 Avenue de Trévoux</td>\n",
       "      <td>SAINT-DENIS-LèS-BOURG</td>\n",
       "    </tr>\n",
       "    <tr>\n",
       "      <th>4</th>\n",
       "      <td>1000006</td>\n",
       "      <td>01000</td>\n",
       "      <td>R</td>\n",
       "      <td>4.620754e+06</td>\n",
       "      <td>523758.000000</td>\n",
       "      <td>1 Boulevard John Kennedy</td>\n",
       "      <td>BOURG-EN-BRESSE</td>\n",
       "    </tr>\n",
       "  </tbody>\n",
       "</table>\n",
       "</div>"
      ],
      "text/plain": [
       "   station_id zip_code type      latitude      longitude  \\\n",
       "0     1000001    01000    R  4.620114e+06  519791.000000   \n",
       "1     1000002    01000    R  4.621842e+06  522767.000000   \n",
       "2     1000004    01000    R  5.245000e+00      46.188000   \n",
       "3     1000005    01000    R  4.620094e+06  519942.024022   \n",
       "4     1000006    01000    R  4.620754e+06  523758.000000   \n",
       "\n",
       "                      address                   city  \n",
       "0       596 AVENUE DE TREVOUX  SAINT-DENIS-LèS-BOURG  \n",
       "1         16 Avenue de Marboz        BOURG-EN-BRESSE  \n",
       "2  20 Avenue du Maréchal Juin        Bourg-en-Bresse  \n",
       "3       642 Avenue de Trévoux  SAINT-DENIS-LèS-BOURG  \n",
       "4    1 Boulevard John Kennedy        BOURG-EN-BRESSE  "
      ]
     },
     "execution_count": 124,
     "metadata": {},
     "output_type": "execute_result"
    }
   ],
   "source": [
    "(stations_df\n",
    " .pipe(checks.is_shape, (None, 7))\n",
    ").head()"
   ]
  },
  {
   "cell_type": "code",
   "execution_count": 50,
   "metadata": {},
   "outputs": [],
   "source": [
    "pd.DataFrame.check_is_shape = engarde.checks.is_shape"
   ]
  },
  {
   "cell_type": "code",
   "execution_count": 52,
   "metadata": {},
   "outputs": [
    {
     "ename": "AssertionError",
     "evalue": "Expected shape: (None, 8)\n\t\tActual shape:   (12559, 7)",
     "output_type": "error",
     "traceback": [
      "\u001b[1;31m---------------------------------------------------------------------------\u001b[0m",
      "\u001b[1;31mAssertionError\u001b[0m                            Traceback (most recent call last)",
      "\u001b[1;32m<ipython-input-52-cf761b6f1f28>\u001b[0m in \u001b[0;36m<module>\u001b[1;34m()\u001b[0m\n\u001b[1;32m----> 1\u001b[1;33m \u001b[0mstations_df\u001b[0m\u001b[1;33m.\u001b[0m\u001b[0mcheck_is_shape\u001b[0m\u001b[1;33m(\u001b[0m\u001b[1;33m(\u001b[0m\u001b[1;32mNone\u001b[0m\u001b[1;33m,\u001b[0m \u001b[1;36m8\u001b[0m\u001b[1;33m)\u001b[0m\u001b[1;33m)\u001b[0m\u001b[1;33m.\u001b[0m\u001b[0massign\u001b[0m\u001b[1;33m(\u001b[0m\u001b[0mtest\u001b[0m \u001b[1;33m=\u001b[0m \u001b[1;34m'Cool'\u001b[0m\u001b[1;33m)\u001b[0m\u001b[1;33m.\u001b[0m\u001b[0mhead\u001b[0m\u001b[1;33m(\u001b[0m\u001b[1;33m)\u001b[0m\u001b[1;33m\u001b[0m\u001b[0m\n\u001b[0m",
      "\u001b[1;32m~\\AppData\\Local\\Continuum\\Anaconda3\\envs\\datascience\\lib\\site-packages\\engarde\\checks.py\u001b[0m in \u001b[0;36mis_shape\u001b[1;34m(df, shape)\u001b[0m\n\u001b[0;32m    104\u001b[0m         check = np.all(np.equal(df.shape, shape) | (np.equal(shape, [-1, -1]) |\n\u001b[0;32m    105\u001b[0m                                                     np.equal(shape, [None, None])))\n\u001b[1;32m--> 106\u001b[1;33m         \u001b[1;32massert\u001b[0m \u001b[0mcheck\u001b[0m\u001b[1;33m\u001b[0m\u001b[0m\n\u001b[0m\u001b[0;32m    107\u001b[0m     \u001b[1;32mexcept\u001b[0m \u001b[0mAssertionError\u001b[0m \u001b[1;32mas\u001b[0m \u001b[0me\u001b[0m\u001b[1;33m:\u001b[0m\u001b[1;33m\u001b[0m\u001b[0m\n\u001b[0;32m    108\u001b[0m         msg = (\"Expected shape: {}\\n\"\n",
      "\u001b[1;31mAssertionError\u001b[0m: Expected shape: (None, 8)\n\t\tActual shape:   (12559, 7)"
     ]
    }
   ],
   "source": [
    "stations_df.check_is_shape((None, 8)).assign(test = 'Cool').head()"
   ]
  },
  {
   "cell_type": "code",
   "execution_count": null,
   "metadata": {},
   "outputs": [],
   "source": []
  }
 ],
 "metadata": {
  "kernelspec": {
   "display_name": "Data Science 3",
   "language": "python",
   "name": "datascience"
  },
  "language_info": {
   "codemirror_mode": {
    "name": "ipython",
    "version": 3
   },
   "file_extension": ".py",
   "mimetype": "text/x-python",
   "name": "python",
   "nbconvert_exporter": "python",
   "pygments_lexer": "ipython3",
   "version": "3.6.5"
  }
 },
 "nbformat": 4,
 "nbformat_minor": 2
}
